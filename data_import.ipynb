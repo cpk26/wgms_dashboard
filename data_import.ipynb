{
 "cells": [
  {
   "cell_type": "code",
   "execution_count": 1,
   "metadata": {
    "lines_to_next_cell": 2
   },
   "outputs": [],
   "source": [
    "import pandas as pd\n",
    "import numpy as np\n",
    "import os\n",
    "import pyproj\n",
    "from pyproj import Transformer\n",
    "import string\n",
    "import os\n",
    "import requests, zipfile, io"
   ]
  },
  {
   "cell_type": "code",
   "execution_count": 2,
   "metadata": {
    "lines_to_next_cell": 2
   },
   "outputs": [],
   "source": [
    "# Data Directory / Files\n",
    "data_dir = \"./DOI-WGMS-FoG-2019-12\"\n",
    "data_archive_url = \"https://wgms.ch/downloads/DOI-WGMS-FoG-2019-12.zip\"\n",
    "target_path = './DOI-WGMS-FoG-2019-12.zip'\n",
    "\n",
    "# Download if not present,      \n",
    "if not os.path.exists(data_dir):\n",
    "    response = requests.get(data_archive_url, stream=True)\n",
    "    with open(target_path, \"wb\") as target_file:\n",
    "        for chunk in response.iter_content(chunk_size=512):\n",
    "            if chunk:  \n",
    "                target_file.write(chunk)\n",
    "    z = zipfile.ZipFile(target_path)\n",
    "    z.extractall()\n",
    "    \n"
   ]
  },
  {
   "cell_type": "code",
   "execution_count": 3,
   "metadata": {
    "lines_to_next_cell": 2
   },
   "outputs": [],
   "source": [
    "# WGMS Data Files\n",
    "a_glacier_file = \"WGMS-FoG-2019-12-A-GLACIER.csv\"\n",
    "b_glacier_file = \"WGMS-FoG-2019-12-B-STATE.csv\"\n",
    "d_change_file = \"WGMS-FoG-2019-12-D-CHANGE.csv\"\n",
    "e_massbalance_file = \"WGMS-FoG-2019-12-E-MASS-BALANCE-OVERVIEW.csv\"\n",
    "ee_massbalance_file = \"WGMS-FoG-2019-12-EE-MASS-BALANCE.csv\""
   ]
  },
  {
   "cell_type": "markdown",
   "metadata": {},
   "source": [
    "#### At this point, open the `a_glacier_file`,  `ee_glacier_file` files and resave in utf-8 format (LibreOffice Calc works)."
   ]
  },
  {
   "cell_type": "code",
   "execution_count": 4,
   "metadata": {},
   "outputs": [],
   "source": [
    "# Main dataframe containing overall information\n",
    "df_compiled = pd.DataFrame()"
   ]
  },
  {
   "cell_type": "markdown",
   "metadata": {},
   "source": [
    "### Extract relevant Glacial Characteristics from the WGMS_A file"
   ]
  },
  {
   "cell_type": "code",
   "execution_count": 5,
   "metadata": {},
   "outputs": [],
   "source": [
    "df_A = pd.read_csv(os.path.join(data_dir, a_glacier_file))\n",
    "df_A.dropna(axis=\"rows\", subset=[\"LONGITUDE\", \"LATITUDE\"], inplace=True)"
   ]
  },
  {
   "cell_type": "code",
   "execution_count": 6,
   "metadata": {},
   "outputs": [
    {
     "data": {
      "text/plain": [
       "Index(['POLITICAL_UNIT', 'NAME', 'WGMS_ID', 'GEN_LOCATION', 'SPEC_LOCATION',\n",
       "       'LATITUDE', 'LONGITUDE', 'PRIM_CLASSIFIC', 'FORM', 'FRONTAL_CHARS',\n",
       "       'EXPOS_ACC_AREA', 'EXPOS_ABL_AREA', 'PARENT_GLACIER', 'REMARKS',\n",
       "       'GLACIER_REGION_CODE', 'GLACIER_SUBREGION_CODE'],\n",
       "      dtype='object')"
      ]
     },
     "execution_count": 6,
     "metadata": {},
     "output_type": "execute_result"
    }
   ],
   "source": [
    "df_A.columns"
   ]
  },
  {
   "cell_type": "code",
   "execution_count": 7,
   "metadata": {
    "lines_to_next_cell": 2
   },
   "outputs": [],
   "source": [
    "# Prettify Capitalization\n",
    "df_A['NAME'] = df_A['NAME'].apply(lambda x: string.capwords(x))\n",
    "\n",
    "notna = df_A['SPEC_LOCATION'].notna()\n",
    "df_A.loc[notna,'SPEC_LOCATION'] = df_A.loc[notna,'SPEC_LOCATION'].apply(lambda x: string.capwords(str(x)))\n",
    "\n",
    "# Change to Float for Consistency\n",
    "df_A['PRIM_CLASSIFIC'] = df_A['PRIM_CLASSIFIC'].astype(float)\n",
    "df_A['FORM'] = df_A['FORM'].replace(' ', np.nan).astype(float)\n",
    "df_A['FRONTAL_CHARS'] = df_A['FRONTAL_CHARS'].astype(float)\n",
    "\n",
    "\n",
    "\n",
    "\n"
   ]
  },
  {
   "cell_type": "code",
   "execution_count": 8,
   "metadata": {
    "lines_to_next_cell": 2
   },
   "outputs": [],
   "source": [
    "# Extract relevant columns\n",
    "A_columns = [\n",
    "    \"WGMS_ID\",\n",
    "    \"LONGITUDE\",\n",
    "    \"LATITUDE\",\n",
    "    \"POLITICAL_UNIT\",\n",
    "    \"GLACIER_REGION_CODE\",\n",
    "    \"SPEC_LOCATION\",\n",
    "    \"NAME\",\n",
    "    \"PRIM_CLASSIFIC\",\n",
    "    \"FORM\",\n",
    "    \"FRONTAL_CHARS\",\n",
    "    \"EXPOS_ACC_AREA\",\n",
    "    \"EXPOS_ABL_AREA\",\n",
    "    \"REMARKS\",\n",
    "]\n",
    "\n",
    "df_compiled = df_A.loc[:, A_columns]"
   ]
  },
  {
   "cell_type": "markdown",
   "metadata": {},
   "source": [
    "### Extract additional data from WGMS_B File"
   ]
  },
  {
   "cell_type": "code",
   "execution_count": 9,
   "metadata": {},
   "outputs": [
    {
     "data": {
      "text/plain": [
       "Index(['POLITICAL_UNIT', 'NAME', 'WGMS_ID', 'YEAR', 'HIGHEST_ELEVATION',\n",
       "       'MEDIAN_ELEVATION', 'LOWEST_ELEVATION', 'ELEVATION_UNC', 'LENGTH',\n",
       "       'LENGTH_UNC', 'AREA', 'AREA_UNC', 'SURVEY_DATE',\n",
       "       'SURVEY_PLATFORM_METHOD', 'INVESTIGATOR', 'SPONS_AGENCY', 'REFERENCE',\n",
       "       'REMARKS', 'PUB_IN_FOG', 'PUB_IN_GGCB'],\n",
       "      dtype='object')"
      ]
     },
     "execution_count": 9,
     "metadata": {},
     "output_type": "execute_result"
    }
   ],
   "source": [
    "df_B = pd.read_csv(os.path.join(data_dir, b_glacier_file))\n",
    "df_B = df_B.query(\"YEAR > 0\")\n",
    "df_B.columns"
   ]
  },
  {
   "cell_type": "code",
   "execution_count": 10,
   "metadata": {},
   "outputs": [],
   "source": [
    "df_B_reduced = df_B.loc[\n",
    "    :,\n",
    "    [\n",
    "        \"WGMS_ID\",\n",
    "        \"YEAR\",\n",
    "        \"HIGHEST_ELEVATION\",\n",
    "        \"LOWEST_ELEVATION\",\n",
    "        \"INVESTIGATOR\",\n",
    "        \"SPONS_AGENCY\",\n",
    "        \"REFERENCE\",\n",
    "    ],\n",
    "]\n",
    "df_B_reduced.drop_duplicates(\"WGMS_ID\", keep=\"last\", inplace=True)"
   ]
  },
  {
   "cell_type": "markdown",
   "metadata": {},
   "source": [
    "### Time Series"
   ]
  },
  {
   "cell_type": "markdown",
   "metadata": {},
   "source": [
    "Create time series for the following data:\n",
    "1. Thickness Change\n",
    "2. Mass Balance\n",
    "3. Length"
   ]
  },
  {
   "cell_type": "code",
   "execution_count": 11,
   "metadata": {},
   "outputs": [],
   "source": [
    "def ts_helper(df, columns):\n",
    "    \"\"\"Extract time series data so that: \n",
    "        1: There is one measurement per year; multiple measurements are summarized crudely with median()\n",
    "        \"\"\"\n",
    "\n",
    "    # One measurement per Year\n",
    "    df_median = df.loc[:, columns].groupby(columns[0:2], as_index=False).median()\n",
    "    df_out = df_median\n",
    "\n",
    "    return df_out"
   ]
  },
  {
   "cell_type": "markdown",
   "metadata": {},
   "source": [
    "### Thickness Change"
   ]
  },
  {
   "cell_type": "code",
   "execution_count": 12,
   "metadata": {},
   "outputs": [
    {
     "data": {
      "text/plain": [
       "Index(['POLITICAL_UNIT', 'NAME', 'SURVEY_ID', 'WGMS_ID', 'YEAR', 'LOWER_BOUND',\n",
       "       'UPPER_BOUND', 'AREA_SURVEY_YEAR', 'AREA_CHANGE', 'AREA_CHANGE_UNC',\n",
       "       'THICKNESS_CHG', 'THICKNESS_CHG_UNC', 'VOLUME_CHANGE',\n",
       "       'VOLUME_CHANGE_UNC', 'SURVEY_DATE', 'SD_PLATFORM_METHOD',\n",
       "       'REFERENCE_DATE', 'RD_PLATFORM_METHOD', 'INVESTIGATOR', 'SPONS_AGENCY',\n",
       "       'REFERENCE', 'REMARKS', 'PUB_IN_FOG', 'PUB_IN_GGCB', 'REF_ID'],\n",
       "      dtype='object')"
      ]
     },
     "execution_count": 12,
     "metadata": {},
     "output_type": "execute_result"
    }
   ],
   "source": [
    "df_D = pd.read_csv(os.path.join(data_dir, d_change_file))\n",
    "df_D.columns"
   ]
  },
  {
   "cell_type": "code",
   "execution_count": 13,
   "metadata": {},
   "outputs": [],
   "source": [
    "th_columns = [\"WGMS_ID\", \"YEAR\", \"THICKNESS_CHG\",'REFERENCE_DATE']\n",
    "df_D_ = df_D.loc[:,th_columns]\n",
    "df_D_.dropna(axis=0, how=\"any\", inplace=True)"
   ]
  },
  {
   "cell_type": "code",
   "execution_count": 14,
   "metadata": {},
   "outputs": [],
   "source": [
    "df_D_['REFERENCE_DATE'] = df_D_['REFERENCE_DATE'].apply(lambda x: int(str(x)[0:4]))"
   ]
  },
  {
   "cell_type": "code",
   "execution_count": 15,
   "metadata": {},
   "outputs": [],
   "source": [
    "df_thickness_chg = ts_helper(df_D_, th_columns)"
   ]
  },
  {
   "cell_type": "markdown",
   "metadata": {},
   "source": [
    "### Area"
   ]
  },
  {
   "cell_type": "code",
   "execution_count": 16,
   "metadata": {},
   "outputs": [],
   "source": [
    "area_columns = [\"WGMS_ID\", \"YEAR\", \"AREA\"]\n",
    "df_area = ts_helper(df_B, area_columns)\n",
    "df_area.dropna(axis=\"rows\", inplace=True)"
   ]
  },
  {
   "cell_type": "code",
   "execution_count": 17,
   "metadata": {},
   "outputs": [
    {
     "data": {
      "text/html": [
       "<div>\n",
       "<style scoped>\n",
       "    .dataframe tbody tr th:only-of-type {\n",
       "        vertical-align: middle;\n",
       "    }\n",
       "\n",
       "    .dataframe tbody tr th {\n",
       "        vertical-align: top;\n",
       "    }\n",
       "\n",
       "    .dataframe thead th {\n",
       "        text-align: right;\n",
       "    }\n",
       "</style>\n",
       "<table border=\"1\" class=\"dataframe\">\n",
       "  <thead>\n",
       "    <tr style=\"text-align: right;\">\n",
       "      <th></th>\n",
       "      <th>WGMS_ID</th>\n",
       "      <th>YEAR</th>\n",
       "      <th>AREA</th>\n",
       "    </tr>\n",
       "  </thead>\n",
       "  <tbody>\n",
       "    <tr>\n",
       "      <th>0</th>\n",
       "      <td>0</td>\n",
       "      <td>1959</td>\n",
       "      <td>38.90</td>\n",
       "    </tr>\n",
       "    <tr>\n",
       "      <th>1</th>\n",
       "      <td>0</td>\n",
       "      <td>1975</td>\n",
       "      <td>38.90</td>\n",
       "    </tr>\n",
       "    <tr>\n",
       "      <th>2</th>\n",
       "      <td>0</td>\n",
       "      <td>2014</td>\n",
       "      <td>38.54</td>\n",
       "    </tr>\n",
       "    <tr>\n",
       "      <th>4</th>\n",
       "      <td>1</td>\n",
       "      <td>1975</td>\n",
       "      <td>0.63</td>\n",
       "    </tr>\n",
       "    <tr>\n",
       "      <th>5</th>\n",
       "      <td>1</td>\n",
       "      <td>2005</td>\n",
       "      <td>0.61</td>\n",
       "    </tr>\n",
       "  </tbody>\n",
       "</table>\n",
       "</div>"
      ],
      "text/plain": [
       "   WGMS_ID  YEAR   AREA\n",
       "0        0  1959  38.90\n",
       "1        0  1975  38.90\n",
       "2        0  2014  38.54\n",
       "4        1  1975   0.63\n",
       "5        1  2005   0.61"
      ]
     },
     "execution_count": 17,
     "metadata": {},
     "output_type": "execute_result"
    }
   ],
   "source": [
    "df_area.head(n=5)"
   ]
  },
  {
   "cell_type": "markdown",
   "metadata": {},
   "source": [
    "### Length"
   ]
  },
  {
   "cell_type": "code",
   "execution_count": 18,
   "metadata": {
    "lines_to_next_cell": 2
   },
   "outputs": [],
   "source": [
    "length_columns = [\"WGMS_ID\", \"YEAR\", \"LENGTH\"]\n",
    "df_length = ts_helper(df_B, length_columns)\n",
    "df_length.dropna(axis=\"rows\", inplace=True)"
   ]
  },
  {
   "cell_type": "code",
   "execution_count": 19,
   "metadata": {},
   "outputs": [
    {
     "data": {
      "text/html": [
       "<div>\n",
       "<style scoped>\n",
       "    .dataframe tbody tr th:only-of-type {\n",
       "        vertical-align: middle;\n",
       "    }\n",
       "\n",
       "    .dataframe tbody tr th {\n",
       "        vertical-align: top;\n",
       "    }\n",
       "\n",
       "    .dataframe thead th {\n",
       "        text-align: right;\n",
       "    }\n",
       "</style>\n",
       "<table border=\"1\" class=\"dataframe\">\n",
       "  <thead>\n",
       "    <tr style=\"text-align: right;\">\n",
       "      <th></th>\n",
       "      <th>WGMS_ID</th>\n",
       "      <th>YEAR</th>\n",
       "      <th>LENGTH</th>\n",
       "    </tr>\n",
       "  </thead>\n",
       "  <tbody>\n",
       "    <tr>\n",
       "      <th>0</th>\n",
       "      <td>0</td>\n",
       "      <td>1959</td>\n",
       "      <td>15.4</td>\n",
       "    </tr>\n",
       "    <tr>\n",
       "      <th>1</th>\n",
       "      <td>0</td>\n",
       "      <td>1975</td>\n",
       "      <td>15.4</td>\n",
       "    </tr>\n",
       "    <tr>\n",
       "      <th>2</th>\n",
       "      <td>0</td>\n",
       "      <td>2014</td>\n",
       "      <td>14.0</td>\n",
       "    </tr>\n",
       "    <tr>\n",
       "      <th>3</th>\n",
       "      <td>1</td>\n",
       "      <td>1960</td>\n",
       "      <td>1.4</td>\n",
       "    </tr>\n",
       "    <tr>\n",
       "      <th>4</th>\n",
       "      <td>1</td>\n",
       "      <td>1975</td>\n",
       "      <td>1.4</td>\n",
       "    </tr>\n",
       "  </tbody>\n",
       "</table>\n",
       "</div>"
      ],
      "text/plain": [
       "   WGMS_ID  YEAR  LENGTH\n",
       "0        0  1959    15.4\n",
       "1        0  1975    15.4\n",
       "2        0  2014    14.0\n",
       "3        1  1960     1.4\n",
       "4        1  1975     1.4"
      ]
     },
     "execution_count": 19,
     "metadata": {},
     "output_type": "execute_result"
    }
   ],
   "source": [
    "df_length.head(n=5)"
   ]
  },
  {
   "cell_type": "markdown",
   "metadata": {},
   "source": [
    "### Mass Balance"
   ]
  },
  {
   "cell_type": "code",
   "execution_count": 20,
   "metadata": {},
   "outputs": [],
   "source": [
    "df_EE = pd.read_csv(os.path.join(data_dir, ee_massbalance_file))\n",
    "df_EE.dropna(axis=\"rows\", subset=[\"ANNUAL_BALANCE\"], inplace=True)\n",
    "\n",
    "EE_columns = [\"WGMS_ID\", \"YEAR\", \"ANNUAL_BALANCE\"]\n",
    "df_mass_balance = ts_helper(df_EE, EE_columns)"
   ]
  },
  {
   "cell_type": "markdown",
   "metadata": {},
   "source": [
    "### Extract site Time Series Characteristics"
   ]
  },
  {
   "cell_type": "code",
   "execution_count": 21,
   "metadata": {},
   "outputs": [],
   "source": [
    "df_wgms = df_compiled.loc[:, [\"WGMS_ID\"]]"
   ]
  },
  {
   "cell_type": "markdown",
   "metadata": {},
   "source": [
    "### First Measurement"
   ]
  },
  {
   "cell_type": "code",
   "execution_count": 22,
   "metadata": {},
   "outputs": [],
   "source": [
    "dfs = [\n",
    "    df.loc[:, [\"WGMS_ID\", \"YEAR\"]].set_index(\"WGMS_ID\")\n",
    "    for df in [df_thickness_chg, df_mass_balance, df_length, df_area]\n",
    "]\n",
    "dfs_ = [df.groupby(\"WGMS_ID\")[\"YEAR\"].min() for df in dfs]\n",
    "df_first_measurement = pd.concat(dfs_, axis=1, join=\"outer\").min(axis=1).reset_index()\n",
    "df_first_measurement.rename({0: \"FIRST_MEAS\"}, axis=1, inplace=True)"
   ]
  },
  {
   "cell_type": "markdown",
   "metadata": {},
   "source": [
    "### Years of Measurements"
   ]
  },
  {
   "cell_type": "code",
   "execution_count": 23,
   "metadata": {},
   "outputs": [],
   "source": [
    "dfs = [\n",
    "    df.loc[:, [\"WGMS_ID\", \"YEAR\"]]\n",
    "    for df in [df_thickness_chg, df_mass_balance, df_length, df_area]\n",
    "]\n",
    "dfs_ = pd.concat(dfs).drop_duplicates(keep=\"first\")\n",
    "df_year_measurement = dfs_.groupby(\"WGMS_ID\").size().reset_index()\n",
    "df_year_measurement.rename({0: \"YEAR_MEASUREMENTS\"}, axis=1, inplace=True)"
   ]
  },
  {
   "cell_type": "markdown",
   "metadata": {},
   "source": [
    "### Which time series data each glacier has"
   ]
  },
  {
   "cell_type": "code",
   "execution_count": 24,
   "metadata": {},
   "outputs": [],
   "source": [
    "df_thickness_ts_bool = pd.DataFrame({'WGMS_ID': df_thickness_chg['WGMS_ID'].unique(), 'THICKNESS_CHANGE_TS': True})\n",
    "df_length_ts_bool = pd.DataFrame({'WGMS_ID': df_length['WGMS_ID'].unique(), 'LENGTH_TS': True})\n",
    "df_area_ts_bool = pd.DataFrame({'WGMS_ID': df_area['WGMS_ID'].unique(), 'AREA_TS': True})\n",
    "df_mb_ts_bool = pd.DataFrame({'WGMS_ID': df_mass_balance['WGMS_ID'].unique(), 't': True})\n"
   ]
  },
  {
   "cell_type": "code",
   "execution_count": 25,
   "metadata": {},
   "outputs": [
    {
     "data": {
      "text/html": [
       "<div>\n",
       "<style scoped>\n",
       "    .dataframe tbody tr th:only-of-type {\n",
       "        vertical-align: middle;\n",
       "    }\n",
       "\n",
       "    .dataframe tbody tr th {\n",
       "        vertical-align: top;\n",
       "    }\n",
       "\n",
       "    .dataframe thead th {\n",
       "        text-align: right;\n",
       "    }\n",
       "</style>\n",
       "<table border=\"1\" class=\"dataframe\">\n",
       "  <thead>\n",
       "    <tr style=\"text-align: right;\">\n",
       "      <th></th>\n",
       "      <th>WGMS_ID</th>\n",
       "      <th>MASS_BALANCE_TS</th>\n",
       "    </tr>\n",
       "  </thead>\n",
       "  <tbody>\n",
       "    <tr>\n",
       "      <th>0</th>\n",
       "      <td>0</td>\n",
       "      <td>True</td>\n",
       "    </tr>\n",
       "    <tr>\n",
       "      <th>1</th>\n",
       "      <td>1</td>\n",
       "      <td>True</td>\n",
       "    </tr>\n",
       "    <tr>\n",
       "      <th>2</th>\n",
       "      <td>16</td>\n",
       "      <td>True</td>\n",
       "    </tr>\n",
       "    <tr>\n",
       "      <th>3</th>\n",
       "      <td>24</td>\n",
       "      <td>True</td>\n",
       "    </tr>\n",
       "    <tr>\n",
       "      <th>4</th>\n",
       "      <td>30</td>\n",
       "      <td>True</td>\n",
       "    </tr>\n",
       "  </tbody>\n",
       "</table>\n",
       "</div>"
      ],
      "text/plain": [
       "   WGMS_ID  MASS_BALANCE_TS\n",
       "0        0             True\n",
       "1        1             True\n",
       "2       16             True\n",
       "3       24             True\n",
       "4       30             True"
      ]
     },
     "execution_count": 25,
     "metadata": {},
     "output_type": "execute_result"
    }
   ],
   "source": [
    "df_mb_ts_bool.head(n=5)"
   ]
  },
  {
   "cell_type": "markdown",
   "metadata": {},
   "source": [
    "### Concatenate"
   ]
  },
  {
   "cell_type": "code",
   "execution_count": 26,
   "metadata": {},
   "outputs": [],
   "source": [
    "df_compiled = df_compiled.merge(df_B_reduced, how=\"left\", on=\"WGMS_ID\", validate=\"1:1\")\n",
    "df_compiled = df_compiled.merge(df_first_measurement, on=\"WGMS_ID\", how=\"left\")\n",
    "df_compiled = df_compiled.merge(df_year_measurement, on=\"WGMS_ID\", how=\"left\")\n",
    "\n",
    "df_compiled = df_compiled.merge(df_thickness_ts_bool, on=\"WGMS_ID\", how=\"left\")\n",
    "df_compiled = df_compiled.merge(df_length_ts_bool, on=\"WGMS_ID\", how=\"left\")\n",
    "df_compiled = df_compiled.merge(df_area_ts_bool, on=\"WGMS_ID\", how=\"left\")\n",
    "df_compiled = df_compiled.merge(df_mb_ts_bool, on=\"WGMS_ID\", how=\"left\")\n",
    "\n",
    "\n",
    "#Set Sensible Null Values\n",
    "# Set first measurement to 2020 if value is Nan, measured years to zero if value is NaN\n",
    "df_compiled.replace(\n",
    "    {\n",
    "        \"FIRST_MEAS\": {np.nan: 2020},\n",
    "        \"YEAR_MEASUREMENTS\": {np.nan: 0},\n",
    "        \"PRIM_CLASSIFIC\": {np.nan: 10},\n",
    "        \"FORM\": {np.nan: 10},\n",
    "        \"FRONTAL_CHARS\": {np.nan: 10},\n",
    "        \"SPEC_LOCATION\": {np.nan: \"N/A\"},\n",
    "        \"NAME\": {np.nan: \"N/A\"},\n",
    "        \"INVESTIGATOR\": {np.nan: \"N/A\"},\n",
    "        \"SPONS_AGENCY\": {np.nan: \"N/A\"},\n",
    "        \"REMARKS\": {np.nan: \"N/A\"},\n",
    "        \"REFERENCE\": {np.nan: \"N/A\"},\n",
    "        \"THICKNESS_CHANGE_TS\": {np.nan: False},\n",
    "        \"LENGTH_TS\": {np.nan: False},\n",
    "        \"AREA_TS\": {np.nan: False},\n",
    "        \"MASS_BALANCE_TS\": {np.nan: False},\n",
    "\n",
    "    },\n",
    "    inplace=True,\n",
    ")"
   ]
  },
  {
   "cell_type": "code",
   "execution_count": 27,
   "metadata": {},
   "outputs": [
    {
     "data": {
      "text/html": [
       "<div>\n",
       "<style scoped>\n",
       "    .dataframe tbody tr th:only-of-type {\n",
       "        vertical-align: middle;\n",
       "    }\n",
       "\n",
       "    .dataframe tbody tr th {\n",
       "        vertical-align: top;\n",
       "    }\n",
       "\n",
       "    .dataframe thead th {\n",
       "        text-align: right;\n",
       "    }\n",
       "</style>\n",
       "<table border=\"1\" class=\"dataframe\">\n",
       "  <thead>\n",
       "    <tr style=\"text-align: right;\">\n",
       "      <th></th>\n",
       "      <th>WGMS_ID</th>\n",
       "      <th>LONGITUDE</th>\n",
       "      <th>LATITUDE</th>\n",
       "      <th>POLITICAL_UNIT</th>\n",
       "      <th>GLACIER_REGION_CODE</th>\n",
       "      <th>SPEC_LOCATION</th>\n",
       "      <th>NAME</th>\n",
       "      <th>PRIM_CLASSIFIC</th>\n",
       "      <th>FORM</th>\n",
       "      <th>FRONTAL_CHARS</th>\n",
       "      <th>...</th>\n",
       "      <th>LOWEST_ELEVATION</th>\n",
       "      <th>INVESTIGATOR</th>\n",
       "      <th>SPONS_AGENCY</th>\n",
       "      <th>REFERENCE</th>\n",
       "      <th>FIRST_MEAS</th>\n",
       "      <th>YEAR_MEASUREMENTS</th>\n",
       "      <th>THICKNESS_CHANGE_TS</th>\n",
       "      <th>LENGTH_TS</th>\n",
       "      <th>AREA_TS</th>\n",
       "      <th>MASS_BALANCE_TS</th>\n",
       "    </tr>\n",
       "  </thead>\n",
       "  <tbody>\n",
       "    <tr>\n",
       "      <th>0</th>\n",
       "      <td>3628</td>\n",
       "      <td>73.23500</td>\n",
       "      <td>37.10000</td>\n",
       "      <td>AF</td>\n",
       "      <td>ASC</td>\n",
       "      <td>Upper Issik Valley</td>\n",
       "      <td>Northern Issik</td>\n",
       "      <td>10.0</td>\n",
       "      <td>10.0</td>\n",
       "      <td>10.0</td>\n",
       "      <td>...</td>\n",
       "      <td>NaN</td>\n",
       "      <td>N/A</td>\n",
       "      <td>N/A</td>\n",
       "      <td>N/A</td>\n",
       "      <td>2020.0</td>\n",
       "      <td>0.0</td>\n",
       "      <td>False</td>\n",
       "      <td>False</td>\n",
       "      <td>False</td>\n",
       "      <td>False</td>\n",
       "    </tr>\n",
       "    <tr>\n",
       "      <th>1</th>\n",
       "      <td>10452</td>\n",
       "      <td>70.17000</td>\n",
       "      <td>35.59500</td>\n",
       "      <td>AF</td>\n",
       "      <td>ASW</td>\n",
       "      <td>Chumar Valley</td>\n",
       "      <td>Pir Yakh</td>\n",
       "      <td>6.0</td>\n",
       "      <td>3.0</td>\n",
       "      <td>8.0</td>\n",
       "      <td>...</td>\n",
       "      <td>4400.0</td>\n",
       "      <td>Abeer Ahmad Sajood, Hedayatullah Arian</td>\n",
       "      <td>Hydrometeorology Department, Geoscience Facult...</td>\n",
       "      <td>N/A</td>\n",
       "      <td>2018.0</td>\n",
       "      <td>1.0</td>\n",
       "      <td>False</td>\n",
       "      <td>True</td>\n",
       "      <td>True</td>\n",
       "      <td>False</td>\n",
       "    </tr>\n",
       "    <tr>\n",
       "      <th>2</th>\n",
       "      <td>13308</td>\n",
       "      <td>73.60173</td>\n",
       "      <td>37.28307</td>\n",
       "      <td>AF</td>\n",
       "      <td>ASC</td>\n",
       "      <td>N/A</td>\n",
       "      <td>Unnamed 13308</td>\n",
       "      <td>10.0</td>\n",
       "      <td>10.0</td>\n",
       "      <td>10.0</td>\n",
       "      <td>...</td>\n",
       "      <td>4720.0</td>\n",
       "      <td>N/A</td>\n",
       "      <td>N/A</td>\n",
       "      <td>RGI5.0</td>\n",
       "      <td>2000.0</td>\n",
       "      <td>2.0</td>\n",
       "      <td>True</td>\n",
       "      <td>False</td>\n",
       "      <td>True</td>\n",
       "      <td>False</td>\n",
       "    </tr>\n",
       "    <tr>\n",
       "      <th>3</th>\n",
       "      <td>13310</td>\n",
       "      <td>73.61128</td>\n",
       "      <td>37.25005</td>\n",
       "      <td>AF</td>\n",
       "      <td>ASC</td>\n",
       "      <td>N/A</td>\n",
       "      <td>Unnamed 13310</td>\n",
       "      <td>10.0</td>\n",
       "      <td>10.0</td>\n",
       "      <td>10.0</td>\n",
       "      <td>...</td>\n",
       "      <td>4682.0</td>\n",
       "      <td>N/A</td>\n",
       "      <td>N/A</td>\n",
       "      <td>RGI5.0</td>\n",
       "      <td>2000.0</td>\n",
       "      <td>2.0</td>\n",
       "      <td>True</td>\n",
       "      <td>False</td>\n",
       "      <td>True</td>\n",
       "      <td>False</td>\n",
       "    </tr>\n",
       "  </tbody>\n",
       "</table>\n",
       "<p>4 rows × 25 columns</p>\n",
       "</div>"
      ],
      "text/plain": [
       "   WGMS_ID  LONGITUDE  LATITUDE POLITICAL_UNIT GLACIER_REGION_CODE  \\\n",
       "0     3628   73.23500  37.10000             AF                 ASC   \n",
       "1    10452   70.17000  35.59500             AF                 ASW   \n",
       "2    13308   73.60173  37.28307             AF                 ASC   \n",
       "3    13310   73.61128  37.25005             AF                 ASC   \n",
       "\n",
       "        SPEC_LOCATION            NAME  PRIM_CLASSIFIC  FORM  FRONTAL_CHARS  \\\n",
       "0  Upper Issik Valley  Northern Issik            10.0  10.0           10.0   \n",
       "1       Chumar Valley        Pir Yakh             6.0   3.0            8.0   \n",
       "2                 N/A   Unnamed 13308            10.0  10.0           10.0   \n",
       "3                 N/A   Unnamed 13310            10.0  10.0           10.0   \n",
       "\n",
       "   ... LOWEST_ELEVATION                            INVESTIGATOR  \\\n",
       "0  ...              NaN                                     N/A   \n",
       "1  ...           4400.0  Abeer Ahmad Sajood, Hedayatullah Arian   \n",
       "2  ...           4720.0                                     N/A   \n",
       "3  ...           4682.0                                     N/A   \n",
       "\n",
       "                                        SPONS_AGENCY  REFERENCE  FIRST_MEAS  \\\n",
       "0                                                N/A        N/A      2020.0   \n",
       "1  Hydrometeorology Department, Geoscience Facult...        N/A      2018.0   \n",
       "2                                                N/A     RGI5.0      2000.0   \n",
       "3                                                N/A     RGI5.0      2000.0   \n",
       "\n",
       "   YEAR_MEASUREMENTS THICKNESS_CHANGE_TS LENGTH_TS AREA_TS  MASS_BALANCE_TS  \n",
       "0                0.0               False     False   False            False  \n",
       "1                1.0               False      True    True            False  \n",
       "2                2.0                True     False    True            False  \n",
       "3                2.0                True     False    True            False  \n",
       "\n",
       "[4 rows x 25 columns]"
      ]
     },
     "execution_count": 27,
     "metadata": {},
     "output_type": "execute_result"
    }
   ],
   "source": [
    "df_compiled.head(n=4)"
   ]
  },
  {
   "cell_type": "markdown",
   "metadata": {},
   "source": [
    "### Save Files"
   ]
  },
  {
   "cell_type": "code",
   "execution_count": 28,
   "metadata": {},
   "outputs": [],
   "source": [
    "df_compiled.to_pickle(\"wgms_combined\")\n",
    "df_thickness_chg.to_pickle(\"wgms_thickness\")\n",
    "df_mass_balance.to_pickle(\"wgms_massbalance\")\n",
    "df_length.to_pickle(\"wgms_length\")\n",
    "df_area.to_pickle(\"wgms_area\")"
   ]
  },
  {
   "cell_type": "markdown",
   "metadata": {},
   "source": [
    "### WGMS ID of MER DE GLACE"
   ]
  },
  {
   "cell_type": "code",
   "execution_count": 29,
   "metadata": {
    "lines_to_next_cell": 2
   },
   "outputs": [
    {
     "data": {
      "text/html": [
       "<div>\n",
       "<style scoped>\n",
       "    .dataframe tbody tr th:only-of-type {\n",
       "        vertical-align: middle;\n",
       "    }\n",
       "\n",
       "    .dataframe tbody tr th {\n",
       "        vertical-align: top;\n",
       "    }\n",
       "\n",
       "    .dataframe thead th {\n",
       "        text-align: right;\n",
       "    }\n",
       "</style>\n",
       "<table border=\"1\" class=\"dataframe\">\n",
       "  <thead>\n",
       "    <tr style=\"text-align: right;\">\n",
       "      <th></th>\n",
       "      <th>WGMS_ID</th>\n",
       "      <th>LONGITUDE</th>\n",
       "      <th>LATITUDE</th>\n",
       "      <th>POLITICAL_UNIT</th>\n",
       "      <th>GLACIER_REGION_CODE</th>\n",
       "      <th>SPEC_LOCATION</th>\n",
       "      <th>NAME</th>\n",
       "      <th>PRIM_CLASSIFIC</th>\n",
       "      <th>FORM</th>\n",
       "      <th>FRONTAL_CHARS</th>\n",
       "      <th>...</th>\n",
       "      <th>LOWEST_ELEVATION</th>\n",
       "      <th>INVESTIGATOR</th>\n",
       "      <th>SPONS_AGENCY</th>\n",
       "      <th>REFERENCE</th>\n",
       "      <th>FIRST_MEAS</th>\n",
       "      <th>YEAR_MEASUREMENTS</th>\n",
       "      <th>THICKNESS_CHANGE_TS</th>\n",
       "      <th>LENGTH_TS</th>\n",
       "      <th>AREA_TS</th>\n",
       "      <th>MASS_BALANCE_TS</th>\n",
       "    </tr>\n",
       "  </thead>\n",
       "  <tbody>\n",
       "    <tr>\n",
       "      <th>16777</th>\n",
       "      <td>353</td>\n",
       "      <td>6.93</td>\n",
       "      <td>45.88</td>\n",
       "      <td>FR</td>\n",
       "      <td>CEU</td>\n",
       "      <td>Mont Blanc Area</td>\n",
       "      <td>Mer De Glace</td>\n",
       "      <td>5.0</td>\n",
       "      <td>1.0</td>\n",
       "      <td>9.0</td>\n",
       "      <td>...</td>\n",
       "      <td>1800.0</td>\n",
       "      <td>D. Six, C.Vincent</td>\n",
       "      <td>CNRS/Grenoble University</td>\n",
       "      <td>Berthier, E. and C. Vincent. 2012. J. of Glaci...</td>\n",
       "      <td>1968.0</td>\n",
       "      <td>11.0</td>\n",
       "      <td>True</td>\n",
       "      <td>True</td>\n",
       "      <td>True</td>\n",
       "      <td>True</td>\n",
       "    </tr>\n",
       "  </tbody>\n",
       "</table>\n",
       "<p>1 rows × 25 columns</p>\n",
       "</div>"
      ],
      "text/plain": [
       "       WGMS_ID  LONGITUDE  LATITUDE POLITICAL_UNIT GLACIER_REGION_CODE  \\\n",
       "16777      353       6.93     45.88             FR                 CEU   \n",
       "\n",
       "         SPEC_LOCATION          NAME  PRIM_CLASSIFIC  FORM  FRONTAL_CHARS  \\\n",
       "16777  Mont Blanc Area  Mer De Glace             5.0   1.0            9.0   \n",
       "\n",
       "       ... LOWEST_ELEVATION       INVESTIGATOR              SPONS_AGENCY  \\\n",
       "16777  ...           1800.0  D. Six, C.Vincent  CNRS/Grenoble University   \n",
       "\n",
       "                                               REFERENCE  FIRST_MEAS  \\\n",
       "16777  Berthier, E. and C. Vincent. 2012. J. of Glaci...      1968.0   \n",
       "\n",
       "       YEAR_MEASUREMENTS THICKNESS_CHANGE_TS LENGTH_TS AREA_TS  \\\n",
       "16777               11.0                True      True    True   \n",
       "\n",
       "       MASS_BALANCE_TS  \n",
       "16777             True  \n",
       "\n",
       "[1 rows x 25 columns]"
      ]
     },
     "execution_count": 29,
     "metadata": {},
     "output_type": "execute_result"
    }
   ],
   "source": [
    "df_compiled[df_compiled[\"NAME\"].str.contains(\"glace\", case=False)]"
   ]
  },
  {
   "cell_type": "code",
   "execution_count": 39,
   "metadata": {},
   "outputs": [
    {
     "data": {
      "text/plain": [
       "WGMS_ID                32503\n",
       "LONGITUDE              32503\n",
       "LATITUDE               32503\n",
       "POLITICAL_UNIT         32503\n",
       "GLACIER_REGION_CODE    32503\n",
       "SPEC_LOCATION          32503\n",
       "NAME                   32503\n",
       "PRIM_CLASSIFIC         32503\n",
       "FORM                   32503\n",
       "FRONTAL_CHARS          32503\n",
       "EXPOS_ACC_AREA          2073\n",
       "EXPOS_ABL_AREA          2080\n",
       "REMARKS                32503\n",
       "YEAR                   10377\n",
       "HIGHEST_ELEVATION       9779\n",
       "LOWEST_ELEVATION       10029\n",
       "INVESTIGATOR           32503\n",
       "SPONS_AGENCY           32503\n",
       "REFERENCE              32503\n",
       "FIRST_MEAS             32503\n",
       "YEAR_MEASUREMENTS      32503\n",
       "THICKNESS_CHANGE_TS    32503\n",
       "LENGTH_TS              32503\n",
       "AREA_TS                32503\n",
       "MASS_BALANCE_TS        32503\n",
       "dtype: int64"
      ]
     },
     "execution_count": 39,
     "metadata": {},
     "output_type": "execute_result"
    }
   ],
   "source": [
    "df_compiled.query(\"THICKNESS_CHANGE_TS in [True, False]\").count()"
   ]
  },
  {
   "cell_type": "code",
   "execution_count": null,
   "metadata": {},
   "outputs": [],
   "source": []
  }
 ],
 "metadata": {
  "jupytext": {
   "formats": "ipynb,py:percent"
  },
  "kernelspec": {
   "display_name": "Python 3",
   "language": "python",
   "name": "python3"
  },
  "language_info": {
   "codemirror_mode": {
    "name": "ipython",
    "version": 3
   },
   "file_extension": ".py",
   "mimetype": "text/x-python",
   "name": "python",
   "nbconvert_exporter": "python",
   "pygments_lexer": "ipython3",
   "version": "3.8.2"
  }
 },
 "nbformat": 4,
 "nbformat_minor": 4
}

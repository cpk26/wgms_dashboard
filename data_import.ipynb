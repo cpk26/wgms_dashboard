{
 "cells": [
  {
   "cell_type": "code",
   "execution_count": 1,
   "metadata": {
    "lines_to_next_cell": 2
   },
   "outputs": [],
   "source": [
    "import pandas as pd\n",
    "import numpy as np\n",
    "import os\n",
    "import pyproj\n",
    "from pyproj import Transformer\n",
    "import string"
   ]
  },
  {
   "cell_type": "code",
   "execution_count": 2,
   "metadata": {},
   "outputs": [],
   "source": [
    "# Data Directory\n",
    "data_dir = \"./DOI-WGMS-FoG-2019-12/\"\n",
    "\n",
    "# WGMS Data Files\n",
    "a_glacier_file = \"WGMS-FoG-2019-12-A-GLACIER.csv\"\n",
    "b_glacier_file = \"WGMS-FoG-2019-12-B-STATE.csv\"\n",
    "d_change_file = \"WGMS-FoG-2019-12-D-CHANGE.csv\"\n",
    "e_massbalance_file = \"WGMS-FoG-2019-12-E-MASS-BALANCE-OVERVIEW.csv\"\n",
    "ee_massbalance_file = \"WGMS-FoG-2019-12-EE-MASS-BALANCE.csv\"\n"
   ]
  },
  {
   "cell_type": "code",
   "execution_count": 3,
   "metadata": {},
   "outputs": [],
   "source": [
    "# Main dataframe containing overall information\n",
    "df_compiled = pd.DataFrame()"
   ]
  },
  {
   "cell_type": "markdown",
   "metadata": {},
   "source": [
    "### Extract relevant Glacial Characteristics from the WGMS_A file"
   ]
  },
  {
   "cell_type": "code",
   "execution_count": 4,
   "metadata": {},
   "outputs": [],
   "source": [
    "df_A = pd.read_csv(os.path.join(data_dir, a_glacier_file))\n",
    "df_A.dropna(axis=\"rows\", subset=[\"LONGITUDE\", \"LATITUDE\"], inplace=True)"
   ]
  },
  {
   "cell_type": "code",
   "execution_count": 5,
   "metadata": {},
   "outputs": [
    {
     "data": {
      "text/plain": [
       "Index(['POLITICAL_UNIT', 'NAME', 'WGMS_ID', 'GEN_LOCATION', 'SPEC_LOCATION',\n",
       "       'LATITUDE', 'LONGITUDE', 'PRIM_CLASSIFIC', 'FORM', 'FRONTAL_CHARS',\n",
       "       'EXPOS_ACC_AREA', 'EXPOS_ABL_AREA', 'PARENT_GLACIER', 'REMARKS',\n",
       "       'GLACIER_REGION_CODE', 'GLACIER_SUBREGION_CODE'],\n",
       "      dtype='object')"
      ]
     },
     "execution_count": 5,
     "metadata": {},
     "output_type": "execute_result"
    }
   ],
   "source": [
    "df_A.columns"
   ]
  },
  {
   "cell_type": "code",
   "execution_count": 6,
   "metadata": {
    "lines_to_next_cell": 2
   },
   "outputs": [],
   "source": [
    "# Prettify Capitalization\n",
    "df_A['NAME'] = df_A['NAME'].apply(lambda x: string.capwords(x))\n",
    "\n",
    "notna = df_A['SPEC_LOCATION'].notna()\n",
    "df_A.loc[notna,'SPEC_LOCATION'] = df_A.loc[notna,'SPEC_LOCATION'].apply(lambda x: string.capwords(str(x)))\n",
    "\n",
    "# Change to Float for Consistency\n",
    "df_A['PRIM_CLASSIFIC'] = df_A['PRIM_CLASSIFIC'].astype(float)\n",
    "df_A['FORM'] = df_A['FORM'].replace(' ', np.nan).astype(float)\n",
    "df_A['FRONTAL_CHARS'] = df_A['FRONTAL_CHARS'].astype(float)\n",
    "\n"
   ]
  },
  {
   "cell_type": "code",
   "execution_count": 7,
   "metadata": {
    "lines_to_next_cell": 2
   },
   "outputs": [],
   "source": [
    "# Extract relevant columns\n",
    "A_columns = [\n",
    "    \"WGMS_ID\",\n",
    "    \"LONGITUDE\",\n",
    "    \"LATITUDE\",\n",
    "    \"POLITICAL_UNIT\",\n",
    "    \"GLACIER_REGION_CODE\",\n",
    "    \"SPEC_LOCATION\",\n",
    "    \"NAME\",\n",
    "    \"PRIM_CLASSIFIC\",\n",
    "    \"FORM\",\n",
    "    \"FRONTAL_CHARS\",\n",
    "    \"EXPOS_ACC_AREA\",\n",
    "    \"EXPOS_ABL_AREA\",\n",
    "    \"REMARKS\",\n",
    "]\n",
    "\n",
    "df_compiled = df_A.loc[:, A_columns]"
   ]
  },
  {
   "cell_type": "markdown",
   "metadata": {},
   "source": [
    "### Extract additional data from WGMS_B File"
   ]
  },
  {
   "cell_type": "code",
   "execution_count": 8,
   "metadata": {},
   "outputs": [
    {
     "data": {
      "text/plain": [
       "Index(['POLITICAL_UNIT', 'NAME', 'WGMS_ID', 'YEAR', 'HIGHEST_ELEVATION',\n",
       "       'MEDIAN_ELEVATION', 'LOWEST_ELEVATION', 'ELEVATION_UNC', 'LENGTH',\n",
       "       'LENGTH_UNC', 'AREA', 'AREA_UNC', 'SURVEY_DATE',\n",
       "       'SURVEY_PLATFORM_METHOD', 'INVESTIGATOR', 'SPONS_AGENCY', 'REFERENCE',\n",
       "       'REMARKS', 'PUB_IN_FOG', 'PUB_IN_GGCB'],\n",
       "      dtype='object')"
      ]
     },
     "execution_count": 8,
     "metadata": {},
     "output_type": "execute_result"
    }
   ],
   "source": [
    "df_B = pd.read_csv(os.path.join(data_dir, b_glacier_file))\n",
    "df_B = df_B.query(\"YEAR > 0\")\n",
    "df_B.columns"
   ]
  },
  {
   "cell_type": "code",
   "execution_count": 9,
   "metadata": {},
   "outputs": [],
   "source": [
    "df_B_reduced = df_B.loc[\n",
    "    :,\n",
    "    [\n",
    "        \"WGMS_ID\",\n",
    "        \"YEAR\",\n",
    "        \"HIGHEST_ELEVATION\",\n",
    "        \"LOWEST_ELEVATION\",\n",
    "        \"INVESTIGATOR\",\n",
    "        \"SPONS_AGENCY\",\n",
    "        \"REFERENCE\",\n",
    "    ],\n",
    "]\n",
    "df_B_reduced.drop_duplicates(\"WGMS_ID\", keep=\"last\", inplace=True)"
   ]
  },
  {
   "cell_type": "markdown",
   "metadata": {},
   "source": [
    "### Time Series"
   ]
  },
  {
   "cell_type": "markdown",
   "metadata": {},
   "source": [
    "Create time series for the following data:\n",
    "1. Thickness Change\n",
    "2. Mass Balance\n",
    "3. Length"
   ]
  },
  {
   "cell_type": "code",
   "execution_count": 10,
   "metadata": {},
   "outputs": [],
   "source": [
    "def ts_helper(df, columns):\n",
    "    \"\"\"Extract time series data so that: \n",
    "        1: There is one measurement per year; multiple measurements are summarized crudely with median()\n",
    "        \"\"\"\n",
    "\n",
    "    # One measurement per Year\n",
    "    df_median = df.loc[:, columns].groupby(columns[0:2], as_index=False).median()\n",
    "    df_out = df_median\n",
    "\n",
    "    return df_out"
   ]
  },
  {
   "cell_type": "markdown",
   "metadata": {},
   "source": [
    "### Thickness Change"
   ]
  },
  {
   "cell_type": "code",
   "execution_count": 11,
   "metadata": {},
   "outputs": [
    {
     "data": {
      "text/plain": [
       "Index(['POLITICAL_UNIT', 'NAME', 'SURVEY_ID', 'WGMS_ID', 'YEAR', 'LOWER_BOUND',\n",
       "       'UPPER_BOUND', 'AREA_SURVEY_YEAR', 'AREA_CHANGE', 'AREA_CHANGE_UNC',\n",
       "       'THICKNESS_CHG', 'THICKNESS_CHG_UNC', 'VOLUME_CHANGE',\n",
       "       'VOLUME_CHANGE_UNC', 'SURVEY_DATE', 'SD_PLATFORM_METHOD',\n",
       "       'REFERENCE_DATE', 'RD_PLATFORM_METHOD', 'INVESTIGATOR', 'SPONS_AGENCY',\n",
       "       'REFERENCE', 'REMARKS', 'PUB_IN_FOG', 'PUB_IN_GGCB', 'REF_ID'],\n",
       "      dtype='object')"
      ]
     },
     "execution_count": 11,
     "metadata": {},
     "output_type": "execute_result"
    }
   ],
   "source": [
    "df_D = pd.read_csv(os.path.join(data_dir, d_change_file))\n",
    "df_D.columns"
   ]
  },
  {
   "cell_type": "code",
   "execution_count": 12,
   "metadata": {},
   "outputs": [],
   "source": [
    "th_columns = [\"WGMS_ID\", \"YEAR\", \"THICKNESS_CHG\",'REFERENCE_DATE']\n",
    "df_D_ = df_D.loc[:,th_columns]\n",
    "df_D_.dropna(axis=0, how=\"any\", inplace=True)"
   ]
  },
  {
   "cell_type": "code",
   "execution_count": 13,
   "metadata": {},
   "outputs": [],
   "source": [
    "df_D_['REFERENCE_DATE'] = df_D_['REFERENCE_DATE'].apply(lambda x: int(str(x)[0:4]))"
   ]
  },
  {
   "cell_type": "code",
   "execution_count": 14,
   "metadata": {},
   "outputs": [],
   "source": [
    "df_thickness_chg = ts_helper(df_D_, th_columns)"
   ]
  },
  {
   "cell_type": "markdown",
   "metadata": {},
   "source": [
    "### Area"
   ]
  },
  {
   "cell_type": "code",
   "execution_count": 15,
   "metadata": {},
   "outputs": [],
   "source": [
    "area_columns = [\"WGMS_ID\", \"YEAR\", \"AREA\"]\n",
    "df_area = ts_helper(df_B, area_columns)\n",
    "df_area.dropna(axis=\"rows\", inplace=True)"
   ]
  },
  {
   "cell_type": "code",
   "execution_count": 16,
   "metadata": {},
   "outputs": [
    {
     "data": {
      "text/html": [
       "<div>\n",
       "<style scoped>\n",
       "    .dataframe tbody tr th:only-of-type {\n",
       "        vertical-align: middle;\n",
       "    }\n",
       "\n",
       "    .dataframe tbody tr th {\n",
       "        vertical-align: top;\n",
       "    }\n",
       "\n",
       "    .dataframe thead th {\n",
       "        text-align: right;\n",
       "    }\n",
       "</style>\n",
       "<table border=\"1\" class=\"dataframe\">\n",
       "  <thead>\n",
       "    <tr style=\"text-align: right;\">\n",
       "      <th></th>\n",
       "      <th>WGMS_ID</th>\n",
       "      <th>YEAR</th>\n",
       "      <th>AREA</th>\n",
       "    </tr>\n",
       "  </thead>\n",
       "  <tbody>\n",
       "    <tr>\n",
       "      <th>0</th>\n",
       "      <td>0</td>\n",
       "      <td>1959</td>\n",
       "      <td>38.90</td>\n",
       "    </tr>\n",
       "    <tr>\n",
       "      <th>1</th>\n",
       "      <td>0</td>\n",
       "      <td>1975</td>\n",
       "      <td>38.90</td>\n",
       "    </tr>\n",
       "    <tr>\n",
       "      <th>2</th>\n",
       "      <td>0</td>\n",
       "      <td>2014</td>\n",
       "      <td>38.54</td>\n",
       "    </tr>\n",
       "    <tr>\n",
       "      <th>4</th>\n",
       "      <td>1</td>\n",
       "      <td>1975</td>\n",
       "      <td>0.63</td>\n",
       "    </tr>\n",
       "    <tr>\n",
       "      <th>5</th>\n",
       "      <td>1</td>\n",
       "      <td>2005</td>\n",
       "      <td>0.61</td>\n",
       "    </tr>\n",
       "  </tbody>\n",
       "</table>\n",
       "</div>"
      ],
      "text/plain": [
       "   WGMS_ID  YEAR   AREA\n",
       "0        0  1959  38.90\n",
       "1        0  1975  38.90\n",
       "2        0  2014  38.54\n",
       "4        1  1975   0.63\n",
       "5        1  2005   0.61"
      ]
     },
     "execution_count": 16,
     "metadata": {},
     "output_type": "execute_result"
    }
   ],
   "source": [
    "df_area.head(n=5)"
   ]
  },
  {
   "cell_type": "markdown",
   "metadata": {},
   "source": [
    "### Length"
   ]
  },
  {
   "cell_type": "code",
   "execution_count": 17,
   "metadata": {},
   "outputs": [],
   "source": [
    "length_columns = [\"WGMS_ID\", \"YEAR\", \"LENGTH\"]\n",
    "df_length = ts_helper(df_B, length_columns)\n",
    "df_length.dropna(axis=\"rows\", inplace=True)\n"
   ]
  },
  {
   "cell_type": "code",
   "execution_count": 18,
   "metadata": {},
   "outputs": [
    {
     "data": {
      "text/html": [
       "<div>\n",
       "<style scoped>\n",
       "    .dataframe tbody tr th:only-of-type {\n",
       "        vertical-align: middle;\n",
       "    }\n",
       "\n",
       "    .dataframe tbody tr th {\n",
       "        vertical-align: top;\n",
       "    }\n",
       "\n",
       "    .dataframe thead th {\n",
       "        text-align: right;\n",
       "    }\n",
       "</style>\n",
       "<table border=\"1\" class=\"dataframe\">\n",
       "  <thead>\n",
       "    <tr style=\"text-align: right;\">\n",
       "      <th></th>\n",
       "      <th>WGMS_ID</th>\n",
       "      <th>YEAR</th>\n",
       "      <th>LENGTH</th>\n",
       "    </tr>\n",
       "  </thead>\n",
       "  <tbody>\n",
       "    <tr>\n",
       "      <th>0</th>\n",
       "      <td>0</td>\n",
       "      <td>1959</td>\n",
       "      <td>15.4</td>\n",
       "    </tr>\n",
       "    <tr>\n",
       "      <th>1</th>\n",
       "      <td>0</td>\n",
       "      <td>1975</td>\n",
       "      <td>15.4</td>\n",
       "    </tr>\n",
       "    <tr>\n",
       "      <th>2</th>\n",
       "      <td>0</td>\n",
       "      <td>2014</td>\n",
       "      <td>14.0</td>\n",
       "    </tr>\n",
       "    <tr>\n",
       "      <th>3</th>\n",
       "      <td>1</td>\n",
       "      <td>1960</td>\n",
       "      <td>1.4</td>\n",
       "    </tr>\n",
       "    <tr>\n",
       "      <th>4</th>\n",
       "      <td>1</td>\n",
       "      <td>1975</td>\n",
       "      <td>1.4</td>\n",
       "    </tr>\n",
       "  </tbody>\n",
       "</table>\n",
       "</div>"
      ],
      "text/plain": [
       "   WGMS_ID  YEAR  LENGTH\n",
       "0        0  1959    15.4\n",
       "1        0  1975    15.4\n",
       "2        0  2014    14.0\n",
       "3        1  1960     1.4\n",
       "4        1  1975     1.4"
      ]
     },
     "execution_count": 18,
     "metadata": {},
     "output_type": "execute_result"
    }
   ],
   "source": [
    "df_length.head(n=5)"
   ]
  },
  {
   "cell_type": "markdown",
   "metadata": {},
   "source": [
    "### Mass Balance"
   ]
  },
  {
   "cell_type": "code",
   "execution_count": 19,
   "metadata": {},
   "outputs": [
    {
     "name": "stderr",
     "output_type": "stream",
     "text": [
      "/home/ckoziol/miniconda3/envs/wgms/lib/python3.8/site-packages/IPython/core/interactiveshell.py:3062: DtypeWarning: Columns (15) have mixed types.Specify dtype option on import or set low_memory=False.\n",
      "  has_raised = await self.run_ast_nodes(code_ast.body, cell_name,\n"
     ]
    }
   ],
   "source": [
    "df_EE = pd.read_csv(os.path.join(data_dir, ee_massbalance_file))\n",
    "df_EE.dropna(axis=\"rows\", subset=[\"ANNUAL_BALANCE\"], inplace=True)\n",
    "\n",
    "EE_columns = [\"WGMS_ID\", \"YEAR\", \"ANNUAL_BALANCE\"]\n",
    "df_mass_balance = ts_helper(df_EE, EE_columns)"
   ]
  },
  {
   "cell_type": "markdown",
   "metadata": {},
   "source": [
    "### Extract site Time Series Characteristics"
   ]
  },
  {
   "cell_type": "code",
   "execution_count": 20,
   "metadata": {},
   "outputs": [],
   "source": [
    "df_wgms = df_compiled.loc[:, [\"WGMS_ID\"]]"
   ]
  },
  {
   "cell_type": "markdown",
   "metadata": {},
   "source": [
    "### First Measurement"
   ]
  },
  {
   "cell_type": "code",
   "execution_count": 21,
   "metadata": {},
   "outputs": [],
   "source": [
    "dfs = [\n",
    "    df.loc[:, [\"WGMS_ID\", \"YEAR\"]].set_index(\"WGMS_ID\")\n",
    "    for df in [df_thickness_chg, df_mass_balance, df_length, df_area]\n",
    "]\n",
    "dfs_ = [df.groupby(\"WGMS_ID\")[\"YEAR\"].min() for df in dfs]\n",
    "df_first_measurement = pd.concat(dfs_, axis=1, join=\"outer\").min(axis=1).reset_index()\n",
    "df_first_measurement.rename({0: \"FIRST_MEAS\"}, axis=1, inplace=True)"
   ]
  },
  {
   "cell_type": "markdown",
   "metadata": {},
   "source": [
    "### Years of Measurements"
   ]
  },
  {
   "cell_type": "code",
   "execution_count": 22,
   "metadata": {},
   "outputs": [],
   "source": [
    "dfs = [\n",
    "    df.loc[:, [\"WGMS_ID\", \"YEAR\"]]\n",
    "    for df in [df_thickness_chg, df_mass_balance, df_length, df_area]\n",
    "]\n",
    "dfs_ = pd.concat(dfs).drop_duplicates(keep=\"first\")\n",
    "df_year_measurement = dfs_.groupby(\"WGMS_ID\").size().reset_index()\n",
    "df_year_measurement.rename({0: \"YEAR_MEASUREMENTS\"}, axis=1, inplace=True)"
   ]
  },
  {
   "cell_type": "markdown",
   "metadata": {},
   "source": [
    "### Concatenate"
   ]
  },
  {
   "cell_type": "code",
   "execution_count": 23,
   "metadata": {},
   "outputs": [],
   "source": [
    "df_compiled = df_compiled.merge(df_B_reduced, how=\"left\", on=\"WGMS_ID\", validate=\"1:1\")\n",
    "df_compiled = df_compiled.merge(df_first_measurement, on=\"WGMS_ID\", how=\"left\")\n",
    "df_compiled = df_compiled.merge(df_year_measurement, on=\"WGMS_ID\", how=\"left\")\n",
    "\n",
    "# Set first measurement to 2020 if value is Nan, measured years to zero if value is NaN\n",
    "df_compiled.replace(\n",
    "    {\n",
    "        \"FIRST_MEAS\": {np.nan: 2020},\n",
    "        \"YEAR_MEASUREMENTS\": {np.nan: 0},\n",
    "        \"PRIM_CLASSIFIC\": {np.nan: 10},\n",
    "        \"FORM\": {np.nan: 10},\n",
    "        \"FRONTAL_CHARS\": {np.nan: 10},\n",
    "        \"SPEC_LOCATION\": {np.nan: \"N/A\"},\n",
    "        \"NAME\": {np.nan: \"N/A\"},\n",
    "        \"INVESTIGATOR\": {np.nan: \"N/A\"},\n",
    "        \"SPONS_AGENCY\": {np.nan: \"N/A\"},\n",
    "        \"REMARKS\": {np.nan: \"N/A\"},\n",
    "        \"REFERENCE\": {np.nan: \"N/A\"},\n",
    "\n",
    "    },\n",
    "    inplace=True,\n",
    ")"
   ]
  },
  {
   "cell_type": "code",
   "execution_count": 24,
   "metadata": {},
   "outputs": [
    {
     "data": {
      "text/html": [
       "<div>\n",
       "<style scoped>\n",
       "    .dataframe tbody tr th:only-of-type {\n",
       "        vertical-align: middle;\n",
       "    }\n",
       "\n",
       "    .dataframe tbody tr th {\n",
       "        vertical-align: top;\n",
       "    }\n",
       "\n",
       "    .dataframe thead th {\n",
       "        text-align: right;\n",
       "    }\n",
       "</style>\n",
       "<table border=\"1\" class=\"dataframe\">\n",
       "  <thead>\n",
       "    <tr style=\"text-align: right;\">\n",
       "      <th></th>\n",
       "      <th>WGMS_ID</th>\n",
       "      <th>LONGITUDE</th>\n",
       "      <th>LATITUDE</th>\n",
       "      <th>POLITICAL_UNIT</th>\n",
       "      <th>GLACIER_REGION_CODE</th>\n",
       "      <th>SPEC_LOCATION</th>\n",
       "      <th>NAME</th>\n",
       "      <th>PRIM_CLASSIFIC</th>\n",
       "      <th>FORM</th>\n",
       "      <th>FRONTAL_CHARS</th>\n",
       "      <th>...</th>\n",
       "      <th>EXPOS_ABL_AREA</th>\n",
       "      <th>REMARKS</th>\n",
       "      <th>YEAR</th>\n",
       "      <th>HIGHEST_ELEVATION</th>\n",
       "      <th>LOWEST_ELEVATION</th>\n",
       "      <th>INVESTIGATOR</th>\n",
       "      <th>SPONS_AGENCY</th>\n",
       "      <th>REFERENCE</th>\n",
       "      <th>FIRST_MEAS</th>\n",
       "      <th>YEAR_MEASUREMENTS</th>\n",
       "    </tr>\n",
       "  </thead>\n",
       "  <tbody>\n",
       "    <tr>\n",
       "      <th>0</th>\n",
       "      <td>3628</td>\n",
       "      <td>73.23500</td>\n",
       "      <td>37.10000</td>\n",
       "      <td>AF</td>\n",
       "      <td>ASC</td>\n",
       "      <td>Upper Issik Valley</td>\n",
       "      <td>Northern Issik</td>\n",
       "      <td>10.0</td>\n",
       "      <td>10.0</td>\n",
       "      <td>10.0</td>\n",
       "      <td>...</td>\n",
       "      <td>NaN</td>\n",
       "      <td>N/A</td>\n",
       "      <td>NaN</td>\n",
       "      <td>NaN</td>\n",
       "      <td>NaN</td>\n",
       "      <td>N/A</td>\n",
       "      <td>N/A</td>\n",
       "      <td>N/A</td>\n",
       "      <td>2020.0</td>\n",
       "      <td>0.0</td>\n",
       "    </tr>\n",
       "    <tr>\n",
       "      <th>1</th>\n",
       "      <td>10452</td>\n",
       "      <td>70.17000</td>\n",
       "      <td>35.59500</td>\n",
       "      <td>AF</td>\n",
       "      <td>ASW</td>\n",
       "      <td>Chumar Valley</td>\n",
       "      <td>Pir Yakh</td>\n",
       "      <td>6.0</td>\n",
       "      <td>3.0</td>\n",
       "      <td>8.0</td>\n",
       "      <td>...</td>\n",
       "      <td>NE</td>\n",
       "      <td>Local people call this glacier PIR YAKH which ...</td>\n",
       "      <td>2018.0</td>\n",
       "      <td>5070.0</td>\n",
       "      <td>4400.0</td>\n",
       "      <td>Abeer Ahmad Sajood, Hedayatullah Arian</td>\n",
       "      <td>Hydrometeorology Department, Geoscience Facult...</td>\n",
       "      <td>N/A</td>\n",
       "      <td>2018.0</td>\n",
       "      <td>1.0</td>\n",
       "    </tr>\n",
       "    <tr>\n",
       "      <th>2</th>\n",
       "      <td>13308</td>\n",
       "      <td>73.60173</td>\n",
       "      <td>37.28307</td>\n",
       "      <td>AF</td>\n",
       "      <td>ASC</td>\n",
       "      <td>N/A</td>\n",
       "      <td>Unnamed 13308</td>\n",
       "      <td>10.0</td>\n",
       "      <td>10.0</td>\n",
       "      <td>10.0</td>\n",
       "      <td>...</td>\n",
       "      <td>NaN</td>\n",
       "      <td>Information derived from RGI5.0.</td>\n",
       "      <td>2000.0</td>\n",
       "      <td>5662.0</td>\n",
       "      <td>4720.0</td>\n",
       "      <td>N/A</td>\n",
       "      <td>N/A</td>\n",
       "      <td>RGI5.0</td>\n",
       "      <td>2000.0</td>\n",
       "      <td>2.0</td>\n",
       "    </tr>\n",
       "    <tr>\n",
       "      <th>3</th>\n",
       "      <td>13310</td>\n",
       "      <td>73.61128</td>\n",
       "      <td>37.25005</td>\n",
       "      <td>AF</td>\n",
       "      <td>ASC</td>\n",
       "      <td>N/A</td>\n",
       "      <td>Unnamed 13310</td>\n",
       "      <td>10.0</td>\n",
       "      <td>10.0</td>\n",
       "      <td>10.0</td>\n",
       "      <td>...</td>\n",
       "      <td>NaN</td>\n",
       "      <td>Information derived from RGI5.0.</td>\n",
       "      <td>2000.0</td>\n",
       "      <td>5373.0</td>\n",
       "      <td>4682.0</td>\n",
       "      <td>N/A</td>\n",
       "      <td>N/A</td>\n",
       "      <td>RGI5.0</td>\n",
       "      <td>2000.0</td>\n",
       "      <td>2.0</td>\n",
       "    </tr>\n",
       "    <tr>\n",
       "      <th>4</th>\n",
       "      <td>13311</td>\n",
       "      <td>73.51735</td>\n",
       "      <td>37.21651</td>\n",
       "      <td>AF</td>\n",
       "      <td>ASC</td>\n",
       "      <td>N/A</td>\n",
       "      <td>Unnamed 13311</td>\n",
       "      <td>10.0</td>\n",
       "      <td>10.0</td>\n",
       "      <td>10.0</td>\n",
       "      <td>...</td>\n",
       "      <td>NaN</td>\n",
       "      <td>Information derived from RGI5.0.</td>\n",
       "      <td>2000.0</td>\n",
       "      <td>5348.0</td>\n",
       "      <td>4523.0</td>\n",
       "      <td>N/A</td>\n",
       "      <td>N/A</td>\n",
       "      <td>RGI5.0</td>\n",
       "      <td>2000.0</td>\n",
       "      <td>2.0</td>\n",
       "    </tr>\n",
       "    <tr>\n",
       "      <th>5</th>\n",
       "      <td>13312</td>\n",
       "      <td>73.49909</td>\n",
       "      <td>37.19965</td>\n",
       "      <td>AF</td>\n",
       "      <td>ASC</td>\n",
       "      <td>N/A</td>\n",
       "      <td>Unnamed 13312</td>\n",
       "      <td>10.0</td>\n",
       "      <td>10.0</td>\n",
       "      <td>10.0</td>\n",
       "      <td>...</td>\n",
       "      <td>NaN</td>\n",
       "      <td>Information derived from RGI5.0.</td>\n",
       "      <td>2000.0</td>\n",
       "      <td>5615.0</td>\n",
       "      <td>4760.0</td>\n",
       "      <td>N/A</td>\n",
       "      <td>N/A</td>\n",
       "      <td>RGI5.0</td>\n",
       "      <td>2000.0</td>\n",
       "      <td>2.0</td>\n",
       "    </tr>\n",
       "    <tr>\n",
       "      <th>6</th>\n",
       "      <td>13582</td>\n",
       "      <td>73.07324</td>\n",
       "      <td>37.04305</td>\n",
       "      <td>AF</td>\n",
       "      <td>ASC</td>\n",
       "      <td>N/A</td>\n",
       "      <td>Unnamed 13582</td>\n",
       "      <td>10.0</td>\n",
       "      <td>10.0</td>\n",
       "      <td>10.0</td>\n",
       "      <td>...</td>\n",
       "      <td>NaN</td>\n",
       "      <td>Information derived from RGI5.0.</td>\n",
       "      <td>2002.0</td>\n",
       "      <td>5584.0</td>\n",
       "      <td>4811.0</td>\n",
       "      <td>N/A</td>\n",
       "      <td>N/A</td>\n",
       "      <td>RGI5.0</td>\n",
       "      <td>2002.0</td>\n",
       "      <td>6.0</td>\n",
       "    </tr>\n",
       "    <tr>\n",
       "      <th>7</th>\n",
       "      <td>13583</td>\n",
       "      <td>73.09385</td>\n",
       "      <td>37.07550</td>\n",
       "      <td>AF</td>\n",
       "      <td>ASC</td>\n",
       "      <td>N/A</td>\n",
       "      <td>Unnamed 13583</td>\n",
       "      <td>10.0</td>\n",
       "      <td>10.0</td>\n",
       "      <td>10.0</td>\n",
       "      <td>...</td>\n",
       "      <td>NaN</td>\n",
       "      <td>Information derived from RGI5.0.</td>\n",
       "      <td>2002.0</td>\n",
       "      <td>5522.0</td>\n",
       "      <td>4862.0</td>\n",
       "      <td>N/A</td>\n",
       "      <td>N/A</td>\n",
       "      <td>RGI5.0</td>\n",
       "      <td>2002.0</td>\n",
       "      <td>6.0</td>\n",
       "    </tr>\n",
       "    <tr>\n",
       "      <th>8</th>\n",
       "      <td>13584</td>\n",
       "      <td>73.10701</td>\n",
       "      <td>37.09954</td>\n",
       "      <td>AF</td>\n",
       "      <td>ASC</td>\n",
       "      <td>N/A</td>\n",
       "      <td>Unnamed 13584</td>\n",
       "      <td>10.0</td>\n",
       "      <td>10.0</td>\n",
       "      <td>10.0</td>\n",
       "      <td>...</td>\n",
       "      <td>NaN</td>\n",
       "      <td>Information derived from RGI5.0.</td>\n",
       "      <td>2002.0</td>\n",
       "      <td>5686.0</td>\n",
       "      <td>4817.0</td>\n",
       "      <td>N/A</td>\n",
       "      <td>N/A</td>\n",
       "      <td>RGI5.0</td>\n",
       "      <td>2002.0</td>\n",
       "      <td>6.0</td>\n",
       "    </tr>\n",
       "    <tr>\n",
       "      <th>9</th>\n",
       "      <td>13585</td>\n",
       "      <td>73.07664</td>\n",
       "      <td>37.13240</td>\n",
       "      <td>AF</td>\n",
       "      <td>ASC</td>\n",
       "      <td>N/A</td>\n",
       "      <td>Unnamed 13585</td>\n",
       "      <td>10.0</td>\n",
       "      <td>10.0</td>\n",
       "      <td>10.0</td>\n",
       "      <td>...</td>\n",
       "      <td>NaN</td>\n",
       "      <td>Information derived from RGI5.0.</td>\n",
       "      <td>2002.0</td>\n",
       "      <td>5580.0</td>\n",
       "      <td>4765.0</td>\n",
       "      <td>N/A</td>\n",
       "      <td>N/A</td>\n",
       "      <td>RGI5.0</td>\n",
       "      <td>2002.0</td>\n",
       "      <td>6.0</td>\n",
       "    </tr>\n",
       "  </tbody>\n",
       "</table>\n",
       "<p>10 rows × 21 columns</p>\n",
       "</div>"
      ],
      "text/plain": [
       "   WGMS_ID  LONGITUDE  LATITUDE POLITICAL_UNIT GLACIER_REGION_CODE  \\\n",
       "0     3628   73.23500  37.10000             AF                 ASC   \n",
       "1    10452   70.17000  35.59500             AF                 ASW   \n",
       "2    13308   73.60173  37.28307             AF                 ASC   \n",
       "3    13310   73.61128  37.25005             AF                 ASC   \n",
       "4    13311   73.51735  37.21651             AF                 ASC   \n",
       "5    13312   73.49909  37.19965             AF                 ASC   \n",
       "6    13582   73.07324  37.04305             AF                 ASC   \n",
       "7    13583   73.09385  37.07550             AF                 ASC   \n",
       "8    13584   73.10701  37.09954             AF                 ASC   \n",
       "9    13585   73.07664  37.13240             AF                 ASC   \n",
       "\n",
       "        SPEC_LOCATION            NAME  PRIM_CLASSIFIC  FORM  FRONTAL_CHARS  \\\n",
       "0  Upper Issik Valley  Northern Issik            10.0  10.0           10.0   \n",
       "1       Chumar Valley        Pir Yakh             6.0   3.0            8.0   \n",
       "2                 N/A   Unnamed 13308            10.0  10.0           10.0   \n",
       "3                 N/A   Unnamed 13310            10.0  10.0           10.0   \n",
       "4                 N/A   Unnamed 13311            10.0  10.0           10.0   \n",
       "5                 N/A   Unnamed 13312            10.0  10.0           10.0   \n",
       "6                 N/A   Unnamed 13582            10.0  10.0           10.0   \n",
       "7                 N/A   Unnamed 13583            10.0  10.0           10.0   \n",
       "8                 N/A   Unnamed 13584            10.0  10.0           10.0   \n",
       "9                 N/A   Unnamed 13585            10.0  10.0           10.0   \n",
       "\n",
       "   ... EXPOS_ABL_AREA                                            REMARKS  \\\n",
       "0  ...            NaN                                                N/A   \n",
       "1  ...             NE  Local people call this glacier PIR YAKH which ...   \n",
       "2  ...            NaN                   Information derived from RGI5.0.   \n",
       "3  ...            NaN                   Information derived from RGI5.0.   \n",
       "4  ...            NaN                   Information derived from RGI5.0.   \n",
       "5  ...            NaN                   Information derived from RGI5.0.   \n",
       "6  ...            NaN                   Information derived from RGI5.0.   \n",
       "7  ...            NaN                   Information derived from RGI5.0.   \n",
       "8  ...            NaN                   Information derived from RGI5.0.   \n",
       "9  ...            NaN                   Information derived from RGI5.0.   \n",
       "\n",
       "     YEAR  HIGHEST_ELEVATION  LOWEST_ELEVATION  \\\n",
       "0     NaN                NaN               NaN   \n",
       "1  2018.0             5070.0            4400.0   \n",
       "2  2000.0             5662.0            4720.0   \n",
       "3  2000.0             5373.0            4682.0   \n",
       "4  2000.0             5348.0            4523.0   \n",
       "5  2000.0             5615.0            4760.0   \n",
       "6  2002.0             5584.0            4811.0   \n",
       "7  2002.0             5522.0            4862.0   \n",
       "8  2002.0             5686.0            4817.0   \n",
       "9  2002.0             5580.0            4765.0   \n",
       "\n",
       "                             INVESTIGATOR  \\\n",
       "0                                     N/A   \n",
       "1  Abeer Ahmad Sajood, Hedayatullah Arian   \n",
       "2                                     N/A   \n",
       "3                                     N/A   \n",
       "4                                     N/A   \n",
       "5                                     N/A   \n",
       "6                                     N/A   \n",
       "7                                     N/A   \n",
       "8                                     N/A   \n",
       "9                                     N/A   \n",
       "\n",
       "                                        SPONS_AGENCY REFERENCE FIRST_MEAS  \\\n",
       "0                                                N/A       N/A     2020.0   \n",
       "1  Hydrometeorology Department, Geoscience Facult...       N/A     2018.0   \n",
       "2                                                N/A    RGI5.0     2000.0   \n",
       "3                                                N/A    RGI5.0     2000.0   \n",
       "4                                                N/A    RGI5.0     2000.0   \n",
       "5                                                N/A    RGI5.0     2000.0   \n",
       "6                                                N/A    RGI5.0     2002.0   \n",
       "7                                                N/A    RGI5.0     2002.0   \n",
       "8                                                N/A    RGI5.0     2002.0   \n",
       "9                                                N/A    RGI5.0     2002.0   \n",
       "\n",
       "   YEAR_MEASUREMENTS  \n",
       "0                0.0  \n",
       "1                1.0  \n",
       "2                2.0  \n",
       "3                2.0  \n",
       "4                2.0  \n",
       "5                2.0  \n",
       "6                6.0  \n",
       "7                6.0  \n",
       "8                6.0  \n",
       "9                6.0  \n",
       "\n",
       "[10 rows x 21 columns]"
      ]
     },
     "execution_count": 24,
     "metadata": {},
     "output_type": "execute_result"
    }
   ],
   "source": [
    "df_compiled.head(n=10)"
   ]
  },
  {
   "cell_type": "markdown",
   "metadata": {},
   "source": [
    "### Save Files"
   ]
  },
  {
   "cell_type": "code",
   "execution_count": 25,
   "metadata": {},
   "outputs": [],
   "source": [
    "df_compiled.to_pickle(\"wgms_combined\")\n",
    "df_thickness_chg.to_pickle(\"wgms_thickness\")\n",
    "df_mass_balance.to_pickle(\"wgms_massbalance\")\n",
    "df_length.to_pickle(\"wgms_length\")\n",
    "df_area.to_pickle(\"wgms_area\")"
   ]
  },
  {
   "cell_type": "markdown",
   "metadata": {},
   "source": [
    "### WGMS ID of MER DE GLACE"
   ]
  },
  {
   "cell_type": "code",
   "execution_count": 28,
   "metadata": {},
   "outputs": [
    {
     "data": {
      "text/html": [
       "<div>\n",
       "<style scoped>\n",
       "    .dataframe tbody tr th:only-of-type {\n",
       "        vertical-align: middle;\n",
       "    }\n",
       "\n",
       "    .dataframe tbody tr th {\n",
       "        vertical-align: top;\n",
       "    }\n",
       "\n",
       "    .dataframe thead th {\n",
       "        text-align: right;\n",
       "    }\n",
       "</style>\n",
       "<table border=\"1\" class=\"dataframe\">\n",
       "  <thead>\n",
       "    <tr style=\"text-align: right;\">\n",
       "      <th></th>\n",
       "      <th>WGMS_ID</th>\n",
       "      <th>LONGITUDE</th>\n",
       "      <th>LATITUDE</th>\n",
       "      <th>POLITICAL_UNIT</th>\n",
       "      <th>GLACIER_REGION_CODE</th>\n",
       "      <th>SPEC_LOCATION</th>\n",
       "      <th>NAME</th>\n",
       "      <th>PRIM_CLASSIFIC</th>\n",
       "      <th>FORM</th>\n",
       "      <th>FRONTAL_CHARS</th>\n",
       "      <th>EXPOS_ACC_AREA</th>\n",
       "      <th>EXPOS_ABL_AREA</th>\n",
       "      <th>REMARKS</th>\n",
       "      <th>YEAR</th>\n",
       "      <th>HIGHEST_ELEVATION</th>\n",
       "      <th>LOWEST_ELEVATION</th>\n",
       "      <th>INVESTIGATOR</th>\n",
       "      <th>SPONS_AGENCY</th>\n",
       "      <th>REFERENCE</th>\n",
       "      <th>FIRST_MEAS</th>\n",
       "      <th>YEAR_MEASUREMENTS</th>\n",
       "    </tr>\n",
       "  </thead>\n",
       "  <tbody>\n",
       "    <tr>\n",
       "      <th>16777</th>\n",
       "      <td>353</td>\n",
       "      <td>6.93</td>\n",
       "      <td>45.88</td>\n",
       "      <td>FR</td>\n",
       "      <td>CEU</td>\n",
       "      <td>Mont Blanc Area</td>\n",
       "      <td>Mer De Glace</td>\n",
       "      <td>5.0</td>\n",
       "      <td>1.0</td>\n",
       "      <td>9.0</td>\n",
       "      <td>N</td>\n",
       "      <td>N</td>\n",
       "      <td>Glacier is part of GLACIOCLIM observatory.</td>\n",
       "      <td>2003.0</td>\n",
       "      <td>4100.0</td>\n",
       "      <td>1800.0</td>\n",
       "      <td>D. Six, C.Vincent</td>\n",
       "      <td>CNRS/Grenoble University</td>\n",
       "      <td>Berthier, E. and C. Vincent. 2012. J. of Glaci...</td>\n",
       "      <td>1968.0</td>\n",
       "      <td>11.0</td>\n",
       "    </tr>\n",
       "  </tbody>\n",
       "</table>\n",
       "</div>"
      ],
      "text/plain": [
       "       WGMS_ID  LONGITUDE  LATITUDE POLITICAL_UNIT GLACIER_REGION_CODE  \\\n",
       "16777      353       6.93     45.88             FR                 CEU   \n",
       "\n",
       "         SPEC_LOCATION          NAME  PRIM_CLASSIFIC  FORM  FRONTAL_CHARS  \\\n",
       "16777  Mont Blanc Area  Mer De Glace             5.0   1.0            9.0   \n",
       "\n",
       "      EXPOS_ACC_AREA EXPOS_ABL_AREA  \\\n",
       "16777              N              N   \n",
       "\n",
       "                                          REMARKS    YEAR  HIGHEST_ELEVATION  \\\n",
       "16777  Glacier is part of GLACIOCLIM observatory.  2003.0             4100.0   \n",
       "\n",
       "       LOWEST_ELEVATION       INVESTIGATOR              SPONS_AGENCY  \\\n",
       "16777            1800.0  D. Six, C.Vincent  CNRS/Grenoble University   \n",
       "\n",
       "                                               REFERENCE  FIRST_MEAS  \\\n",
       "16777  Berthier, E. and C. Vincent. 2012. J. of Glaci...      1968.0   \n",
       "\n",
       "       YEAR_MEASUREMENTS  \n",
       "16777               11.0  "
      ]
     },
     "execution_count": 28,
     "metadata": {},
     "output_type": "execute_result"
    }
   ],
   "source": [
    "df_compiled[df_compiled[\"NAME\"].str.contains(\"glace\", case=False)]\n"
   ]
  },
  {
   "cell_type": "code",
   "execution_count": 44,
   "metadata": {},
   "outputs": [
    {
     "data": {
      "text/plain": [
       "array([  0.,   1.,   2.,   6.,   3.,   4.,   5.,  19.,  21.,   8.,  20.,\n",
       "        18.,  11.,  13.,  15.,   7.,  22.,  28.,  17.,  32.,  14.,  68.,\n",
       "        10.,  66.,   9.,  34.,  58.,  40.,  30.,  57.,  41.,  55.,  51.,\n",
       "        52.,  25.,  16.,  23.,  56.,  64., 104.,  59.,  62.,  65.,  45.,\n",
       "        43., 100.,  12.,  44.,  47.,  29.,  31.,  27.,  24.,  71.,  26.,\n",
       "        33.,  48.,  39.,  38.,  35.,  49.,  36.,  37.,  73.,  54.,  53.])"
      ]
     },
     "execution_count": 44,
     "metadata": {},
     "output_type": "execute_result"
    }
   ],
   "source": [
    "df_compiled['YEAR_MEASUREMENTS'].unique()\n"
   ]
  },
  {
   "cell_type": "code",
   "execution_count": 34,
   "metadata": {},
   "outputs": [
    {
     "data": {
      "text/plain": [
       "[0, 1, 2, 3, 4, 5, 6, 7, 8, 9, 10]"
      ]
     },
     "execution_count": 34,
     "metadata": {},
     "output_type": "execute_result"
    }
   ],
   "source": [
    "list(range(11))"
   ]
  },
  {
   "cell_type": "code",
   "execution_count": 37,
   "metadata": {},
   "outputs": [
    {
     "data": {
      "text/plain": [
       "True"
      ]
     },
     "execution_count": 37,
     "metadata": {},
     "output_type": "execute_result"
    }
   ],
   "source": [
    "1.0 in list(range(11))"
   ]
  },
  {
   "cell_type": "code",
   "execution_count": null,
   "metadata": {},
   "outputs": [],
   "source": []
  }
 ],
 "metadata": {
  "jupytext": {
   "formats": "ipynb,py:percent"
  },
  "kernelspec": {
   "display_name": "Python 3",
   "language": "python",
   "name": "python3"
  },
  "language_info": {
   "codemirror_mode": {
    "name": "ipython",
    "version": 3
   },
   "file_extension": ".py",
   "mimetype": "text/x-python",
   "name": "python",
   "nbconvert_exporter": "python",
   "pygments_lexer": "ipython3",
   "version": "3.8.2"
  }
 },
 "nbformat": 4,
 "nbformat_minor": 4
}
